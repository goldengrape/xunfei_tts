{
 "cells": [
  {
   "cell_type": "code",
   "execution_count": null,
   "metadata": {},
   "outputs": [],
   "source": [
    "import argparse\n",
    "from xunfei_tts import Speech as xf_Speech\n",
    "import json\n",
    "\n",
    "# 创建解析步骤\n",
    "parser = argparse.ArgumentParser(description='Process TTS')\n",
    "\n",
    "# 添加参数步骤\n",
    "parser.add_argument('-t','--text',  type=str, \n",
    "                   help='text to speak')\n",
    "parser.add_argument('-f','--file',  type=str, \n",
    "                   help='text file name to speak')\n",
    "parser.add_argument('-o','--output',  type=str,\n",
    "                   help='output file name')\n",
    "parser.add_argument('-v','--voice',  type=str, default='aisjiuxu',\n",
    "                   help='the voice of tts')\n",
    "parser.add_argument('-a','--api',  type=str, default='API_setup.txt',\n",
    "                   help='setup the api filename')\n",
    "parser.add_argument('-s','--speak', action=\"store_true\",\n",
    "                   help='speak')\n",
    "\n",
    "# 解析参数步骤  \n",
    "args = parser.parse_args()"
   ]
  },
  {
   "cell_type": "code",
   "execution_count": null,
   "metadata": {},
   "outputs": [],
   "source": [
    "# 要说的话\n",
    "if args.text:\n",
    "    text=args.text\n",
    "elif args.file:\n",
    "    with open(args.file) as text_file:\n",
    "        text=text_file.read()\n",
    "\n",
    "# 初始化讯飞引擎\n",
    "with open(args.api) as json_file:  \n",
    "    api = json.load(json_file)\n",
    "    ve = xf_Speech(api, voice_name=args.voice)         \n",
    "# 朗读\n",
    "if args.speak: \n",
    "    ve.play(text)\n",
    "# 存储\n",
    "if args.output:\n",
    "    ve.save(text,args.output)"
   ]
  }
 ],
 "metadata": {
  "kernelspec": {
   "display_name": "Python 3",
   "language": "python",
   "name": "python3"
  },
  "language_info": {
   "codemirror_mode": {
    "name": "ipython",
    "version": 3
   },
   "file_extension": ".py",
   "mimetype": "text/x-python",
   "name": "python",
   "nbconvert_exporter": "python",
   "pygments_lexer": "ipython3",
   "version": "3.6.8"
  }
 },
 "nbformat": 4,
 "nbformat_minor": 2
}
